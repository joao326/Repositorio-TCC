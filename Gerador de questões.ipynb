{
  "cells": [
    {
      "cell_type": "markdown",
      "source": [
        "# API do Chatgpt"
      ],
      "metadata": {
        "id": "4zbY21diSf0k"
      }
    },
    {
      "cell_type": "markdown",
      "source": [
        "## Utilização\n",
        "Será usada para:\n",
        "- geração do contexto das perguntas\n",
        "- Filtragem e classificação de perguntas\n",
        "- Geração dos distratores"
      ],
      "metadata": {
        "id": "Y4zNQJ1DSmGM"
      }
    },
    {
      "cell_type": "markdown",
      "source": [
        "## Preço\n",
        "- gpt-4o:\n",
        "  - $0.00250$ / 1K input tokens\n",
        "  - $0.00125$ / 1K cached** input tokens\n",
        "  - $0.01000$ / 1K output tokens\n",
        "- gpt-4o-mini (melhor opção)\n",
        "  - $0.000150$ / 1K input tokens\n",
        "  - $0.000075$ / 1K cached** input tokens\n",
        "  - $0.000600$ / 1K output tokens\n",
        "\n",
        "- text-embedding-3-small (pode ser útil para analise de desempenho)\n",
        "\n",
        "## Tipos de tokens\n",
        "- Tokens de Entrada (Input Tokens):\n",
        "\n",
        "  - São os tokens consumidos pelo texto enviado para a API (o seu prompt e as instruções que você envia).\n",
        "Tudo que você coloca no campo de mensagens conta como tokens de entrada.\n",
        "O sistema divide esse texto em tokens, que representam palavras ou partes de palavras. Quanto mais longo o prompt, mais tokens de entrada são contabilizados.\n",
        "\n",
        "- Tokens de Saída (Output Tokens):\n",
        "\n",
        "  - São os tokens gerados pela resposta da API.\n",
        "Quanto mais longa a resposta desejada, mais tokens de saída serão usados. Você pode definir o limite de saída com o parâmetro max_tokens para controlar o tamanho da resposta."
      ],
      "metadata": {
        "id": "m7Y9pagjJlBT"
      }
    },
    {
      "cell_type": "markdown",
      "source": [
        "## Como Saber Quantos Tokens estão sendo utilizados\n",
        "\n",
        "- Estimativa Manual: Para uma estimativa aproximada, considere que 1 token equivale a cerca de 4 caracteres em inglês ou 0,75 palavras.\n",
        "- Ferramentas de Contagem de Tokens: A OpenAI tem um tokenizer tool que permite estimar a contagem de tokens para um texto específico.\n",
        "## Dicas para Otimizar o Uso de Tokens\n",
        "- Reduza o Tamanho dos Prompts: Use prompts mais diretos para reduzir os tokens de entrada.\n",
        "- Controle max_tokens para Saídas: Ajuste max_tokens para evitar respostas excessivamente longas e controlar os tokens de saída.\n",
        "\n",
        "tanto tokens de entrada quanto de saída serão contabilizados conforme você usa a API para gerar contextos, distratores, filtrar perguntas e respostas, etc. Isso permitirá que você veja exatamente o consumo por chamada e ajuste as instruções conforme necessário."
      ],
      "metadata": {
        "id": "4EwZYkHNSMxE"
      }
    },
    {
      "cell_type": "markdown",
      "source": [
        "# Configuração da api da openAI"
      ],
      "metadata": {
        "id": "uqr8o16xLeEv"
      }
    },
    {
      "cell_type": "code",
      "source": [
        "import os\n",
        "from openai import OpenAI"
      ],
      "metadata": {
        "id": "Tbbk5mC2zsYW"
      },
      "execution_count": null,
      "outputs": []
    },
    {
      "cell_type": "code",
      "source": [
        "# Inserindo chave API\n",
        "from google.colab import drive\n",
        "\n",
        "drive.mount('/content/drive')\n",
        "\n",
        "with open('/content/drive/MyDrive/api secret key.txt') as f:\n",
        "    os.environ['OPENAI_API_KEY'] = f.read().strip()\n",
        "\n",
        "client = OpenAI(\n",
        "  api_key=os.environ['OPENAI_API_KEY'],\n",
        ")"
      ],
      "metadata": {
        "colab": {
          "base_uri": "https://localhost:8080/"
        },
        "id": "BrlPsFG86GMq",
        "outputId": "2ab8d163-764c-4cca-f2b0-4a0f2400e79b"
      },
      "execution_count": null,
      "outputs": [
        {
          "output_type": "stream",
          "name": "stdout",
          "text": [
            "Mounted at /content/drive\n"
          ]
        }
      ]
    },
    {
      "cell_type": "markdown",
      "source": [
        "# Contexto"
      ],
      "metadata": {
        "id": "n8tM-4NhyLsx"
      }
    },
    {
      "cell_type": "code",
      "source": [
        "# Definindo função de geração de contexto\n",
        "def gerar_contexto(topic):\n",
        "    prompt = (f\"Write a comprehensive and structured tutorial on the Java programming topic '{topic}' without using any code examples. \"\n",
        "              f\"Begin with an introduction explaining why '{topic}' is important in Java. \"\n",
        "              \"Provide an in-depth explanation of key concepts, including important terminology, common patterns, and relevant methods or classes. \"\n",
        "              \"Describe each concept clearly, focusing on how they work, how to apply them, and when they are commonly used. \"\n",
        "              \"Finally, discuss common pitfalls and best practices associated with this topic in Java. Ensure that the tutorial is thorough enough for the reader to understand without needing code examples.\")\n",
        "\n",
        "    response = client.chat.completions.create(\n",
        "        model=\"gpt-4o-mini\",\n",
        "        messages=[\n",
        "            {\"role\": \"system\", \"content\": \"You are a Java programming expert who writes in-depth tutorials without code examples.\"},\n",
        "            {\"role\": \"user\", \"content\": prompt}\n",
        "        ],\n",
        "        max_tokens=1200,\n",
        "        temperature=0.7\n",
        "    )\n",
        "    return response.choices[0].message.content"
      ],
      "metadata": {
        "id": "QsQzJYPt6-Sx"
      },
      "execution_count": null,
      "outputs": []
    },
    {
      "cell_type": "code",
      "source": [
        "# Teste da geração de contexto\n",
        "topic = \"Exception Handling\"\n",
        "\n",
        "texto_gerado = gerar_contexto(topic)\n",
        "\n",
        "print(\"Texto gerado pelo modelo:\")\n",
        "print(texto_gerado)\n"
      ],
      "metadata": {
        "colab": {
          "base_uri": "https://localhost:8080/"
        },
        "id": "Or5pWDQzzHFy",
        "outputId": "3a25c1fa-000c-45d8-d426-c1558918d79a"
      },
      "execution_count": null,
      "outputs": [
        {
          "output_type": "stream",
          "name": "stdout",
          "text": [
            "Texto gerado pelo modelo:\n",
            "# Comprehensive Tutorial on Exception Handling in Java\n",
            "\n",
            "## Introduction\n",
            "\n",
            "Exception handling is a critical aspect of robust Java programming. It provides a mechanism to manage runtime anomalies gracefully and ensures that the program can respond to unexpected events without crashing. In the real world, software applications are often subject to various errors, ranging from user input mistakes to hardware failures and network issues. Exception handling allows developers to create resilient applications that can recover from these situations and maintain a good user experience.\n",
            "\n",
            "In Java, exceptions are categorized into distinct types, allowing developers to handle different error scenarios appropriately. By using exception handling, developers can ensure that their applications remain stable and provide meaningful feedback when errors occur.\n",
            "\n",
            "## Key Concepts in Exception Handling\n",
            "\n",
            "### 1. What is an Exception?\n",
            "\n",
            "An exception is an event that disrupts the normal flow of a program's execution. It can arise from various sources, such as invalid user input, failed file operations, or network connectivity issues. In Java, exceptions are represented as objects that extend the `Throwable` class, which acts as the superclass for all errors and exceptions.\n",
            "\n",
            "### 2. Types of Exceptions\n",
            "\n",
            "Java exceptions are primarily divided into two categories:\n",
            "\n",
            "- **Checked Exceptions**: These exceptions are checked at compile-time. The Java compiler mandates that these exceptions must either be caught using a try-catch block or declared in the method signature using the `throws` keyword. Examples include `IOException` and `SQLException`. Checked exceptions are typically used when a method can reasonably be expected to fail due to external factors.\n",
            "\n",
            "- **Unchecked Exceptions**: These exceptions are not checked at compile-time and are subclasses of `RuntimeException`. They represent programming errors, such as logic mistakes or improper use of APIs. Examples include `NullPointerException` and `ArrayIndexOutOfBoundsException`. Unchecked exceptions indicate a flaw in the program's logic that could have been avoided through better coding practices.\n",
            "\n",
            "### 3. The Exception Hierarchy\n",
            "\n",
            "Understanding the hierarchy of exceptions in Java helps in grasping how exceptions are structured. At the top of the hierarchy is the `Throwable` class, which has two main subclasses: `Error` and `Exception`. \n",
            "\n",
            "- **Error**: This subclass represents serious problems that a typical application should not try to catch. Examples include `StackOverflowError` and `OutOfMemoryError`. These errors indicate issues that are generally outside the control of the application.\n",
            "\n",
            "- **Exception**: This subclass is further divided into checked and unchecked exceptions, as previously mentioned. Developers primarily work with this class when handling runtime anomalies.\n",
            "\n",
            "### 4. Exception Handling Mechanism\n",
            "\n",
            "Java employs a structured exception handling mechanism that relies on the following key components:\n",
            "\n",
            "- **Try Block**: This block contains the code that may throw an exception. It serves as a protective wrapper for potentially problematic operations.\n",
            "\n",
            "- **Catch Block**: This block is used to handle the exception thrown in the try block. It specifies the type of exception it can catch and contains the code that executes if such an exception occurs.\n",
            "\n",
            "- **Finally Block**: This block is optional and contains code that always executes after the try and catch blocks, regardless of whether an exception was thrown or caught. It is typically used for resource cleanup, such as closing file streams or database connections.\n",
            "\n",
            "- **Throw Statement**: This statement is used to explicitly throw an exception in a method. It can be used to signal an error condition, allowing developers to enforce error handling policies.\n",
            "\n",
            "- **Throws Clause**: This clause is used in method signatures to declare that a method can throw one or more exceptions. This informs callers of the method that they need to handle or propagate the specified exceptions.\n",
            "\n",
            "### 5. Common Patterns in Exception Handling\n",
            "\n",
            "When working with exceptions, certain patterns emerge that can improve code readability and maintainability:\n",
            "\n",
            "- **Single Responsibility Principle**: Each catch block should handle only one type of exception to enhance clarity. This approach makes it easier to understand the error-handling logic.\n",
            "\n",
            "- **Chaining Exceptions**: When throwing exceptions, it's often useful to include the original exception as the cause of the new exception. This practice preserves the stack trace and provides more context for debugging.\n",
            "\n",
            "- **Custom Exceptions**: Developers can create their custom exception classes by extending the `Exception` or `RuntimeException` class. This helps in representing application-specific error conditions and facilitates better error categorization.\n",
            "\n",
            "## Common Pitfalls in Exception Handling\n",
            "\n",
            "While exception handling in Java is powerful, there are several common pitfalls developers should avoid:\n",
            "\n",
            "- **Overusing Exceptions**: Using exceptions for control flow can lead to performance issues and make the code harder to read. Exceptions should be used for exceptional circumstances, not regular control flow.\n",
            "\n",
            "- **Ignoring Exceptions**: Failing to catch or handle exceptions can lead to application crashes or undefined behavior. It's essential to handle exceptions appropriately to maintain application stability.\n",
            "\n",
            "- **Catching Throwable**: Catching the `Throwable` class is discouraged, as it can intercept serious errors that should not be handled by the application. Instead, focus on catching specific exceptions to avoid masking critical issues.\n",
            "\n",
            "## Best Practices for Exception Handling\n",
            "\n",
            "To ensure effective exception handling in Java, consider the following best practices:\n",
            "\n",
            "- **Be Specific**: Always catch the most specific exception possible. This practice allows for more precise error handling and improves clarity.\n",
            "\n",
            "- **Log Exceptions**: Implement logging for exceptions to track errors and facilitate debugging. Logging provides valuable insights into the application's behavior in production environments.\n",
            "\n",
            "- **Use Finally for Cleanup**: Utilize the finally block for resource management to ensure that resources are released properly, regardless of whether an exception occurs.\n",
            "\n",
            "- **Document Exceptions**: Clearly document the exceptions that a method can throw, either through Javadoc comments or method signatures. This documentation helps other developers understand how to interact with the code safely.\n",
            "\n",
            "- **Avoid Swallowing Exceptions**: When catching exceptions, do not leave the catch block empty. Always handle the exception in a meaningful way, whether through logging, rethrowing, or providing user feedback\n"
          ]
        }
      ]
    },
    {
      "cell_type": "markdown",
      "source": [
        "Texto gerado pelo modelo:\n",
        "## Comprehensive Tutorial on Exception Handling in Java\n",
        "\n",
        "## Introduction\n",
        "\n",
        "Exception handling is a critical aspect of robust Java programming. It provides a mechanism to manage runtime anomalies gracefully and ensures that the program can respond to unexpected events without crashing. In the real world, software applications are often subject to various errors, ranging from user input mistakes to hardware failures and network issues. Exception handling allows developers to create resilient applications that can recover from these situations and maintain a good user experience.\n",
        "\n",
        "In Java, exceptions are categorized into distinct types, allowing developers to handle different error scenarios appropriately. By using exception handling, developers can ensure that their applications remain stable and provide meaningful feedback when errors occur.\n",
        "\n",
        "## Key Concepts in Exception Handling\n",
        "\n",
        "### 1. What is an Exception?\n",
        "\n",
        "An exception is an event that disrupts the normal flow of a program's execution. It can arise from various sources, such as invalid user input, failed file operations, or network connectivity issues. In Java, exceptions are represented as objects that extend the `Throwable` class, which acts as the superclass for all errors and exceptions.\n",
        "\n",
        "### 2. Types of Exceptions\n",
        "\n",
        "Java exceptions are primarily divided into two categories:\n",
        "\n",
        "- **Checked Exceptions**: These exceptions are checked at compile-time. The Java compiler mandates that these exceptions must either be caught using a try-catch block or declared in the method signature using the `throws` keyword. Examples include `IOException` and `SQLException`. Checked exceptions are typically used when a method can reasonably be expected to fail due to external factors.\n",
        "\n",
        "- **Unchecked Exceptions**: These exceptions are not checked at compile-time and are subclasses of `RuntimeException`. They represent programming errors, such as logic mistakes or improper use of APIs. Examples include `NullPointerException` and `ArrayIndexOutOfBoundsException`. Unchecked exceptions indicate a flaw in the program's logic that could have been avoided through better coding practices.\n",
        "\n",
        "### 3. The Exception Hierarchy\n",
        "\n",
        "Understanding the hierarchy of exceptions in Java helps in grasping how exceptions are structured. At the top of the hierarchy is the `Throwable` class, which has two main subclasses: `Error` and `Exception`.\n",
        "\n",
        "- **Error**: This subclass represents serious problems that a typical application should not try to catch. Examples include `StackOverflowError` and `OutOfMemoryError`. These errors indicate issues that are generally outside the control of the application.\n",
        "\n",
        "- **Exception**: This subclass is further divided into checked and unchecked exceptions, as previously mentioned. Developers primarily work with this class when handling runtime anomalies.\n",
        "\n",
        "### 4. Exception Handling Mechanism\n",
        "\n",
        "Java employs a structured exception handling mechanism that relies on the following key components:\n",
        "\n",
        "- **Try Block**: This block contains the code that may throw an exception. It serves as a protective wrapper for potentially problematic operations.\n",
        "\n",
        "- **Catch Block**: This block is used to handle the exception thrown in the try block. It specifies the type of exception it can catch and contains the code that executes if such an exception occurs.\n",
        "\n",
        "- **Finally Block**: This block is optional and contains code that always executes after the try and catch blocks, regardless of whether an exception was thrown or caught. It is typically used for resource cleanup, such as closing file streams or database connections.\n",
        "\n",
        "- **Throw Statement**: This statement is used to explicitly throw an exception in a method. It can be used to signal an error condition, allowing developers to enforce error handling policies.\n",
        "\n",
        "- **Throws Clause**: This clause is used in method signatures to declare that a method can throw one or more exceptions. This informs callers of the method that they need to handle or propagate the specified exceptions.\n",
        "\n",
        "### 5. Common Patterns in Exception Handling\n",
        "\n",
        "When working with exceptions, certain patterns emerge that can improve code readability and maintainability:\n",
        "\n",
        "- **Single Responsibility Principle**: Each catch block should handle only one type of exception to enhance clarity. This approach makes it easier to understand the error-handling logic.\n",
        "\n",
        "- **Chaining Exceptions**: When throwing exceptions, it's often useful to include the original exception as the cause of the new exception. This practice preserves the stack trace and provides more context for debugging.\n",
        "\n",
        "- **Custom Exceptions**: Developers can create their custom exception classes by extending the `Exception` or `RuntimeException` class. This helps in representing application-specific error conditions and facilitates better error categorization.\n",
        "\n",
        "## Common Pitfalls in Exception Handling\n",
        "\n",
        "While exception handling in Java is powerful, there are several common pitfalls developers should avoid:\n",
        "\n",
        "- **Overusing Exceptions**: Using exceptions for control flow can lead to performance issues and make the code harder to read. Exceptions should be used for exceptional circumstances, not regular control flow.\n",
        "\n",
        "- **Ignoring Exceptions**: Failing to catch or handle exceptions can lead to application crashes or undefined behavior. It's essential to handle exceptions appropriately to maintain application stability.\n",
        "\n",
        "- **Catching Throwable**: Catching the `Throwable` class is discouraged, as it can intercept serious errors that should not be handled by the application. Instead, focus on catching specific exceptions to avoid masking critical issues.\n",
        "\n",
        "## Best Practices for Exception Handling\n",
        "\n",
        "To ensure effective exception handling in Java, consider the following best practices:\n",
        "\n",
        "- **Be Specific**: Always catch the most specific exception possible. This practice allows for more precise error handling and improves clarity.\n",
        "\n",
        "- **Log Exceptions**: Implement logging for exceptions to track errors and facilitate debugging. Logging provides valuable insights into the application's behavior in production environments.\n",
        "\n",
        "- **Use Finally for Cleanup**: Utilize the finally block for resource management to ensure that resources are released properly, regardless of whether an exception occurs.\n",
        "\n",
        "- **Document Exceptions**: Clearly document the exceptions that a method can throw, either through Javadoc comments or method signatures. This documentation helps other developers understand how to interact with the code safely.\n",
        "\n",
        "- **Avoid Swallowing Exceptions**: When catching exceptions, do not leave the catch block empty. Always handle the exception in a meaningful way, whether through logging, rethrowing, or providing user feedback"
      ],
      "metadata": {
        "id": "nNLf4PYWDfLH"
      }
    },
    {
      "cell_type": "markdown",
      "source": [
        "# Gerador de perguntas"
      ],
      "metadata": {
        "id": "UBHDMwCKyswG"
      }
    },
    {
      "cell_type": "code",
      "source": [
        "text = \"\"\"Exception handling is a critical component of robust Java programming, providing a mechanism to manage runtime anomalies gracefully and ensuring that programs can respond to unexpected events without crashing. In the real world, software applications often encounter various errors, ranging from user input mistakes to hardware failures and network issues. Exception handling allows developers to create resilient applications that can recover from these scenarios, thus maintaining a good user experience.\n",
        "\n",
        "In Java, exceptions are organized into distinct categories, allowing developers to handle different error scenarios appropriately. Through effective use of exception handling, developers can ensure that their applications remain stable and provide meaningful feedback to users when errors arise.\n",
        "\n",
        "An exception is essentially an event that disrupts the normal flow of a program’s execution. Exceptions can stem from various sources, such as invalid user inputs, failed file operations, or network connectivity issues. In Java, exceptions are represented as objects extending from the `Throwable` class, which acts as the superclass for all errors and exceptions.\n",
        "\n",
        "Java categorizes exceptions primarily into two types: checked and unchecked exceptions. Checked exceptions are identified at compile-time, requiring developers to either catch them using a try-catch block or declare them in the method signature using the `throws` keyword. Examples of checked exceptions include `IOException` and `SQLException`, which are typically used when a method might fail due to external factors. On the other hand, unchecked exceptions, which are not checked at compile-time, are subclasses of `RuntimeException` and often represent programming errors, such as logic mistakes or incorrect API usage. Examples include `NullPointerException` and `ArrayIndexOutOfBoundsException`, which indicate flaws in the program's logic that could be mitigated with better coding practices.\n",
        "\n",
        "Understanding the hierarchy of exceptions in Java provides insight into how exceptions are structured. At the top of this hierarchy is the `Throwable` class, with two main subclasses: `Error` and `Exception`. The `Error` subclass represents serious problems that an application should not attempt to catch, such as `StackOverflowError` and `OutOfMemoryError`, which often indicate issues beyond the application's control. The `Exception` subclass, however, is further divided into checked and unchecked exceptions and is where developers focus when managing runtime anomalies.\n",
        "\n",
        "Java's structured exception handling mechanism relies on key components such as the try block, which contains code that may throw an exception, acting as a protective wrapper for potentially risky operations. When an exception occurs, the catch block handles it, specifying the type of exception it can catch and containing code that executes when the exception arises. Additionally, there is the optional finally block, which always executes after the try and catch blocks, regardless of whether an exception was thrown. The finally block is commonly used for resource cleanup, such as closing file streams or database connections. Java also offers the throw statement, which explicitly throws an exception in a method, allowing developers to signal specific error conditions. Furthermore, the throws clause in method signatures declares that a method might throw certain exceptions, informing callers that they must manage or propagate these exceptions.\n",
        "\n",
        "In practice, certain patterns in exception handling can improve code readability and maintainability. Following the Single Responsibility Principle, each catch block should handle only one type of exception, enhancing clarity and making the error-handling logic easier to understand. Another pattern is chaining exceptions, where including the original exception as the cause of a new exception preserves the stack trace, aiding in debugging. Developers can also create custom exception classes by extending the `Exception` or `RuntimeException` classes, enabling application-specific error categorization.\n",
        "\n",
        "Despite the robustness of Java’s exception handling system, there are common pitfalls to avoid. Overusing exceptions for control flow, for example, can lead to performance issues and decrease code readability. Exceptions should be reserved for exceptional circumstances, not regular control flow. Ignoring exceptions can lead to application crashes or undefined behavior, making it essential to handle exceptions properly to maintain application stability. Catching the `Throwable` class is generally discouraged because it can intercept serious errors that should not be handled by the application, potentially masking critical issues.\n",
        "\n",
        "To ensure effective exception handling in Java, certain best practices are recommended. Always catch the most specific exception possible, which allows for more precise error handling and improved code clarity. Implement logging for exceptions to track errors and facilitate debugging, as this provides valuable insights into the application’s behavior, especially in production environments. Utilize the finally block for resource management, ensuring resources are released properly regardless of whether an exception occurs. Document the exceptions that a method can throw clearly, either through Javadoc comments or method signatures, to help other developers understand how to interact with the code safely. Lastly, avoid \"swallowing\" exceptions, where a catch block is left empty. Always handle exceptions in a meaningful way, such as through logging, rethrowing, or providing user feedback, to ensure transparency and maintain application reliability.\n",
        "\"\"\""
      ],
      "metadata": {
        "id": "bvnxjL9EEUGk"
      },
      "execution_count": null,
      "outputs": []
    },
    {
      "cell_type": "markdown",
      "source": [
        "Gerador de questão (multitask QA-QG)"
      ],
      "metadata": {
        "id": "8Y8hmTJLQR_G"
      }
    },
    {
      "cell_type": "code",
      "source": [
        "# punkt - tokenizer que divide trecho em sentenças e em palavras\n",
        "!python -m nltk.downloader punkt\n",
        "\n",
        "!git clone https://github.com/joao326/question_generation/\n",
        "#!git clone https://github.com/patil-suraj/question_generation.git\n",
        "\n",
        "%cd question_generation\n",
        "!git checkout Tentando-corrigir-o-erro-substring-not-found"
      ],
      "metadata": {
        "colab": {
          "base_uri": "https://localhost:8080/"
        },
        "id": "hLU7lIYqQqYN",
        "outputId": "cc6575e1-28c7-40ef-e03e-cf10146374cc"
      },
      "execution_count": null,
      "outputs": [
        {
          "output_type": "stream",
          "name": "stdout",
          "text": [
            "/usr/lib/python3.10/runpy.py:126: RuntimeWarning: 'nltk.downloader' found in sys.modules after import of package 'nltk', but prior to execution of 'nltk.downloader'; this may result in unpredictable behaviour\n",
            "  warn(RuntimeWarning(msg))\n",
            "[nltk_data] Downloading package punkt to /root/nltk_data...\n",
            "[nltk_data]   Unzipping tokenizers/punkt.zip.\n",
            "Cloning into 'question_generation'...\n",
            "remote: Enumerating objects: 165, done.\u001b[K\n",
            "remote: Counting objects: 100% (19/19), done.\u001b[K\n",
            "remote: Compressing objects: 100% (12/12), done.\u001b[K\n",
            "remote: Total 165 (delta 10), reused 16 (delta 7), pack-reused 146 (from 1)\u001b[K\n",
            "Receiving objects: 100% (165/165), 274.49 KiB | 1.34 MiB/s, done.\n",
            "Resolving deltas: 100% (82/82), done.\n",
            "/content/question_generation\n",
            "Branch 'Tentando-corrigir-o-erro-substring-not-found' set up to track remote branch 'Tentando-corrigir-o-erro-substring-not-found' from 'origin'.\n",
            "Switched to a new branch 'Tentando-corrigir-o-erro-substring-not-found'\n"
          ]
        }
      ]
    },
    {
      "cell_type": "markdown",
      "source": [
        "Selecionando o pipeline a ser utilizado, o modelo de geração de questão e o modelo de geração de respostas respectivamente:"
      ],
      "metadata": {
        "id": "Ybc58RSX-9V9"
      }
    },
    {
      "cell_type": "code",
      "source": [
        "#tópico = \"Exception Handling\"\n",
        "#contexto = gerar_contexto(tópico)\n",
        "\n",
        "from pipelines import pipeline\n",
        "\n",
        "# pipeline(task, model, ans_model)\n",
        "nlp = pipeline(\"multitask-qa-qg\", model=\"valhalla/t5-base-qa-qg-hl\", ans_model=\"valhalla/t5-base-qa-qg-hl\")\n",
        "\n",
        "\"\"\"\n",
        "    trecho relacionado em pipeline.py:\n",
        "    \"multitask-qa-qg\": {\n",
        "        \"impl\": MultiTaskQAQGPipeline, # task_class\n",
        "        \"default\": {\n",
        "            \"model\": \"valhalla/t5-small-qa-qg-hl\",\n",
        "        }\n",
        "    },\n",
        "\"\"\"\n",
        "\n",
        "\n",
        "perguntas_respostas = nlp(text)\n",
        "nlp(text)"
      ],
      "metadata": {
        "colab": {
          "base_uri": "https://localhost:8080/",
          "height": 1000,
          "referenced_widgets": [
            "eeae2b3e33f14a5cab485d823163e5a0",
            "f79785a319914aaf9c27f424ae207d38",
            "da9dbfe168e64f8987cbb84c11dc96d4",
            "e3e47ffd6e804c73884319a22d5c5276",
            "33505908101d4f2da318d4125f33e2e7",
            "62f0ca0d5d9641219d326c81bc71588e",
            "fb03ebeaacf148e9ba4650b16390c260",
            "5234c78397ee47fc9eae335d9d362742",
            "15bd352bf65a45d6aa93d22c3e302824",
            "ffc66a8b9dfa4dc2882008a8ef1220b6",
            "ba837b0eed1f4074a495d82e9590d2b4",
            "10a3d7b2501c42c9b927d7ddd64917a8",
            "d09c8725ab264ed48a654bb471c4869e",
            "536b248b25ed4f2d877c188622e537fd",
            "1de13b1f31ec4d1490387b3b48461a41",
            "0d92eb87f7fd4db6898f388c495b032c",
            "e2f22397dcfa4f558d2c0ba4e8fbd289",
            "5d2ac3fc987d49a1ab11440effa4d364",
            "30ecc279c7d64ee9b3282d7efda7e77e",
            "468d35d7e1cd4632b4a5cbb29842206e",
            "5c453c2f150540e38eea9aa153846449",
            "2633beef5cec4c369e5a7afc0b4fd081",
            "d16dd0ec222344238596ecc32d4975b5",
            "bc527612df9845e68a92412e61989d97",
            "ab4a3c77c9144e08933289707a6ef535",
            "4bd71f47bf064d68b7cffc3b4a085370",
            "2ef922f53c014e97817679b20675c411",
            "ba1e098be466497191591b34439bcf9f",
            "25b15d1ac25344ad9dfc390b702f865d",
            "c8ea30dc7ef5467fb9e661f9b6b40bbc",
            "80f3e50289724d8ea0a1007f8bec0009",
            "eae042f007d3449d806a0eef9a4cb6d8",
            "3f8541c751b04d369237dda7c1c45030",
            "3cb1f7872cfa4fbc91094952fe9a34c7",
            "aacb9a2381e94c558529fca8bebaa464",
            "778933a65ff7406494f573bd93cb21cd",
            "ce0b5d7306524f26baa7a7ade8213c03",
            "55b87631a6424cf2b799b5076b608e55",
            "b28f82f68ba049e2bdd708c50a195687",
            "26c007fbea914a0a8d06366fd7755521",
            "9353a9cab5a441cbaca69302d3ceb5a2",
            "55474fac16264275969f9cc3265b21db",
            "f2e49e6347b046038e817d33fc9b9681",
            "73cc76a3487e4a2ea19381e4d29cde52"
          ]
        },
        "id": "0jTDuPDeRTju",
        "outputId": "175c4f0d-df4d-4e31-f081-8caebc23b5b7"
      },
      "execution_count": null,
      "outputs": [
        {
          "output_type": "display_data",
          "data": {
            "text/plain": [
              "spiece.model:   0%|          | 0.00/792k [00:00<?, ?B/s]"
            ],
            "application/vnd.jupyter.widget-view+json": {
              "version_major": 2,
              "version_minor": 0,
              "model_id": "eeae2b3e33f14a5cab485d823163e5a0"
            }
          },
          "metadata": {}
        },
        {
          "output_type": "display_data",
          "data": {
            "text/plain": [
              "added_tokens.json:   0%|          | 0.00/31.0 [00:00<?, ?B/s]"
            ],
            "application/vnd.jupyter.widget-view+json": {
              "version_major": 2,
              "version_minor": 0,
              "model_id": "10a3d7b2501c42c9b927d7ddd64917a8"
            }
          },
          "metadata": {}
        },
        {
          "output_type": "display_data",
          "data": {
            "text/plain": [
              "special_tokens_map.json:   0%|          | 0.00/65.0 [00:00<?, ?B/s]"
            ],
            "application/vnd.jupyter.widget-view+json": {
              "version_major": 2,
              "version_minor": 0,
              "model_id": "d16dd0ec222344238596ecc32d4975b5"
            }
          },
          "metadata": {}
        },
        {
          "output_type": "stream",
          "name": "stderr",
          "text": [
            "You are using the default legacy behaviour of the <class 'transformers.models.t5.tokenization_t5.T5Tokenizer'>. This is expected, and simply means that the `legacy` (previous) behavior will be used so nothing changes for you. If you want to use the new behaviour, set `legacy=False`. This should only be set if you understand what it means, and thoroughly read the reason why this was added as explained in https://github.com/huggingface/transformers/pull/24565\n",
            "/usr/local/lib/python3.10/dist-packages/transformers/tokenization_utils_base.py:1601: FutureWarning: `clean_up_tokenization_spaces` was not set. It will be set to `True` by default. This behavior will be depracted in transformers v4.45, and will be then set to `False` by default. For more details check this issue: https://github.com/huggingface/transformers/issues/31884\n",
            "  warnings.warn(\n"
          ]
        },
        {
          "output_type": "display_data",
          "data": {
            "text/plain": [
              "pytorch_model.bin:   0%|          | 0.00/892M [00:00<?, ?B/s]"
            ],
            "application/vnd.jupyter.widget-view+json": {
              "version_major": 2,
              "version_minor": 0,
              "model_id": "3cb1f7872cfa4fbc91094952fe9a34c7"
            }
          },
          "metadata": {}
        },
        {
          "output_type": "stream",
          "name": "stderr",
          "text": [
            "WARNING:pipelines:Answer '<unk>throws<unk>' not found in sentence 'Checked exceptions are identified at compile-time, requiring developers to either catch them using a try-catch block or declare them in the method signature using the `throws` keyword.'\n",
            "WARNING:pipelines:Answer 'understanding' not found in sentence 'Understanding the hierarchy of exceptions in Java provides insight into how exceptions are structured.'\n",
            "WARNING:pipelines:Answer '<unk>Error<unk> and <unk>Exception<unk>' not found in sentence 'At the top of this hierarchy is the `Throwable` class, with two main subclasses: `Error` and `Exception`.'\n"
          ]
        },
        {
          "output_type": "stream",
          "name": "stdout",
          "text": [
            "Answer without <pad>: 'Exception handling'\n",
            "Answer without <pad>: 'various errors'\n",
            "Answer without <pad>: 'create resilient applications'\n",
            "Answer without <pad>: 'distinct categories'\n",
            "Answer without <pad>: 'ensure that their applications remain stable and provide meaningful feedback to users when errors arise'\n",
            "Answer without <pad>: 'An exception'\n",
            "Answer without <pad>: 'invalid user inputs, failed file operations, or network connectivity issues'\n",
            "Answer without <pad>: 'Throwable'\n",
            "Answer without <pad>: 'checked and unchecked exceptions'\n",
            "Answer without <pad>: '<unk>throws<unk>'\n",
            "Answer without <pad>: 'IOException'\n",
            "Answer without <pad>: 'unchecked exceptions'\n",
            "Answer without <pad>: 'NullPointerException'\n",
            "Answer without <pad>: 'understanding'\n",
            "Answer without <pad>: '<unk>Error<unk> and <unk>Exception<unk>'\n",
            "Answer without <pad>: 'StackOverflowError'\n"
          ]
        },
        {
          "output_type": "stream",
          "name": "stderr",
          "text": [
            "WARNING:pipelines:Answer '<unk>throws<unk>' not found in sentence 'Checked exceptions are identified at compile-time, requiring developers to either catch them using a try-catch block or declare them in the method signature using the `throws` keyword.'\n",
            "WARNING:pipelines:Answer 'understanding' not found in sentence 'Understanding the hierarchy of exceptions in Java provides insight into how exceptions are structured.'\n",
            "WARNING:pipelines:Answer '<unk>Error<unk> and <unk>Exception<unk>' not found in sentence 'At the top of this hierarchy is the `Throwable` class, with two main subclasses: `Error` and `Exception`.'\n"
          ]
        },
        {
          "output_type": "stream",
          "name": "stdout",
          "text": [
            "Answer without <pad>: 'Exception handling'\n",
            "Answer without <pad>: 'various errors'\n",
            "Answer without <pad>: 'create resilient applications'\n",
            "Answer without <pad>: 'distinct categories'\n",
            "Answer without <pad>: 'ensure that their applications remain stable and provide meaningful feedback to users when errors arise'\n",
            "Answer without <pad>: 'An exception'\n",
            "Answer without <pad>: 'invalid user inputs, failed file operations, or network connectivity issues'\n",
            "Answer without <pad>: 'Throwable'\n",
            "Answer without <pad>: 'checked and unchecked exceptions'\n",
            "Answer without <pad>: '<unk>throws<unk>'\n",
            "Answer without <pad>: 'IOException'\n",
            "Answer without <pad>: 'unchecked exceptions'\n",
            "Answer without <pad>: 'NullPointerException'\n",
            "Answer without <pad>: 'understanding'\n",
            "Answer without <pad>: '<unk>Error<unk> and <unk>Exception<unk>'\n",
            "Answer without <pad>: 'StackOverflowError'\n"
          ]
        },
        {
          "output_type": "execute_result",
          "data": {
            "text/plain": [
              "[{'answer': 'Exception handling',\n",
              "  'question': 'What is a critical component of robust Java programming?'},\n",
              " {'answer': 'various errors',\n",
              "  'question': 'What do software applications often encounter in the real world?'},\n",
              " {'answer': 'create resilient applications',\n",
              "  'question': 'What does Exception handling allow developers to do?'},\n",
              " {'answer': 'distinct categories',\n",
              "  'question': 'What are exceptions organized into in Java?'},\n",
              " {'answer': 'ensure that their applications remain stable and provide meaningful feedback to users when errors arise',\n",
              "  'question': 'What can developers do through effective use of exception handling?'},\n",
              " {'answer': 'An exception',\n",
              "  'question': \"What is essentially an event that disrupts the normal flow of a program's execution?\"},\n",
              " {'answer': 'invalid user inputs, failed file operations, or network connectivity issues',\n",
              "  'question': 'Exceptions can stem from what?'},\n",
              " {'answer': 'Throwable',\n",
              "  'question': 'What class acts as the superclass for all errors and exceptions in Java?'},\n",
              " {'answer': 'checked and unchecked exceptions',\n",
              "  'question': 'What are the two types of exceptions in Java?'},\n",
              " {'answer': 'IOException',\n",
              "  'question': 'What is an example of a checked exception?'},\n",
              " {'answer': 'unchecked exceptions',\n",
              "  'question': 'What type of exceptions are not checked at compile-time?'},\n",
              " {'answer': 'NullPointerException',\n",
              "  'question': 'What is an example of an unchecked exception?'},\n",
              " {'answer': 'StackOverflowError',\n",
              "  'question': 'What is an example of an error that an application should not attempt to catch?'}]"
            ]
          },
          "metadata": {},
          "execution_count": 4
        }
      ]
    },
    {
      "cell_type": "markdown",
      "source": [
        "to do:\n",
        "- [ ] Retirar \"Answer without \\<pad>:\""
      ],
      "metadata": {
        "id": "sWhrlMH5FEB8"
      }
    },
    {
      "cell_type": "markdown",
      "source": [
        "# Filtragem das perguntas ideais e classificação com base no nível de dificuldade"
      ],
      "metadata": {
        "id": "3oJVbsIW5gPn"
      }
    },
    {
      "cell_type": "code",
      "source": [
        "import json\n",
        "import re\n",
        "\n",
        "def filtrar_e_classificar_perguntas(perguntas_respostas):\n",
        "    prompt = (\n",
        "        \"Analyze the following list of question-answer pairs generated for a Java programming topic. \"\n",
        "        \"Identify and remove any question-answer pairs that are incomplete, confusing, inconsistent, redundant, repetitive, or vague. \"\n",
        "        \"For each high-quality question, classify its difficulty level as 'easy', 'medium', or 'hard'. \"\n",
        "        \"Provide the filtered and classified list in JSON format with the structure: \"\n",
        "        \"[{'question': '...', 'answer': '...', 'difficulty': '...'}].\"\n",
        "    )\n",
        "\n",
        "    # Formatação da lista de perguntas e respostas para o prompt\n",
        "    perguntas_formatadas = \"\\n\".join([f\"Q: {pr['question']} | A: {pr['answer']}\" for pr in perguntas_respostas])\n",
        "\n",
        "    # Enviar o prompt para a API\n",
        "    response = client.chat.completions.create(\n",
        "        model=\"gpt-4o-mini\",\n",
        "        messages=[\n",
        "            {\"role\": \"system\", \"content\": \"You are an assistant that filters and classifies Java programming question-answer pairs.\"},\n",
        "            {\"role\": \"user\", \"content\": f\"{prompt}\\n\\n{perguntas_formatadas}\"}\n",
        "        ],\n",
        "        max_tokens=1500,\n",
        "        temperature=0.5\n",
        "    )\n",
        "\n",
        "    # Extraindo a parte JSON da resposta\n",
        "    content = response.choices[0].message.content\n",
        "    print(\"Reposta da API:\", content) # imprimindo resposta completa para verificação\n",
        "\n",
        "    # Regex para capturar a parte JSON\n",
        "    match = re.search(r'```json\\n(.*?)\\n```', content, re.DOTALL)\n",
        "    if match:\n",
        "      json_text = match.group(1)\n",
        "      try:\n",
        "        perguntas_filtradas_classificadas = json.loads(json_text)\n",
        "      except json.JSONDecodeError:\n",
        "        print(\"Erro ao decodificar JSON.\")\n",
        "        perguntas_filtradas_classificadas = None\n",
        "    else:\n",
        "      print(\"Formato JSON não encontrado na resposta\")\n",
        "      perguntas_filtradas_classificadas = None\n",
        "    return perguntas_filtradas_classificadas\n",
        "\n",
        "perguntas_classificadas = filtrar_e_classificar_perguntas(perguntas_respostas)\n",
        "print(\"Perguntas de boa qualidade e classificadas por dificuldade(formato JSON): \")\n",
        "print(perguntas_classificadas)"
      ],
      "metadata": {
        "colab": {
          "base_uri": "https://localhost:8080/"
        },
        "id": "kQRBMv3KQNCh",
        "outputId": "c13c93ee-5ada-4ad0-fa05-984503385ccb"
      },
      "execution_count": null,
      "outputs": [
        {
          "output_type": "stream",
          "name": "stdout",
          "text": [
            "Reposta da API: ```json\n",
            "[\n",
            "    {\n",
            "        \"question\": \"What is a critical component of robust Java programming?\",\n",
            "        \"answer\": \"Exception handling\",\n",
            "        \"difficulty\": \"easy\"\n",
            "    },\n",
            "    {\n",
            "        \"question\": \"What does Exception handling allow developers to do?\",\n",
            "        \"answer\": \"create resilient applications\",\n",
            "        \"difficulty\": \"medium\"\n",
            "    },\n",
            "    {\n",
            "        \"question\": \"What is essentially an event that disrupts the normal flow of a program's execution?\",\n",
            "        \"answer\": \"An exception\",\n",
            "        \"difficulty\": \"easy\"\n",
            "    },\n",
            "    {\n",
            "        \"question\": \"What class acts as the superclass for all errors and exceptions in Java?\",\n",
            "        \"answer\": \"Throwable\",\n",
            "        \"difficulty\": \"medium\"\n",
            "    },\n",
            "    {\n",
            "        \"question\": \"What are the two types of exceptions in Java?\",\n",
            "        \"answer\": \"checked and unchecked exceptions\",\n",
            "        \"difficulty\": \"easy\"\n",
            "    },\n",
            "    {\n",
            "        \"question\": \"What is an example of a checked exception?\",\n",
            "        \"answer\": \"IOException\",\n",
            "        \"difficulty\": \"medium\"\n",
            "    },\n",
            "    {\n",
            "        \"question\": \"What is an example of an unchecked exception?\",\n",
            "        \"answer\": \"NullPointerException\",\n",
            "        \"difficulty\": \"medium\"\n",
            "    },\n",
            "    {\n",
            "        \"question\": \"What is an example of an error that an application should not attempt to catch?\",\n",
            "        \"answer\": \"StackOverflowError\",\n",
            "        \"difficulty\": \"medium\"\n",
            "    }\n",
            "]\n",
            "```\n",
            "Perguntas de boa qualidade e classificadas por dificuldade:\n",
            "[{'question': 'What is a critical component of robust Java programming?', 'answer': 'Exception handling', 'difficulty': 'easy'}, {'question': 'What does Exception handling allow developers to do?', 'answer': 'create resilient applications', 'difficulty': 'medium'}, {'question': \"What is essentially an event that disrupts the normal flow of a program's execution?\", 'answer': 'An exception', 'difficulty': 'easy'}, {'question': 'What class acts as the superclass for all errors and exceptions in Java?', 'answer': 'Throwable', 'difficulty': 'medium'}, {'question': 'What are the two types of exceptions in Java?', 'answer': 'checked and unchecked exceptions', 'difficulty': 'easy'}, {'question': 'What is an example of a checked exception?', 'answer': 'IOException', 'difficulty': 'medium'}, {'question': 'What is an example of an unchecked exception?', 'answer': 'NullPointerException', 'difficulty': 'medium'}, {'question': 'What is an example of an error that an application should not attempt to catch?', 'answer': 'StackOverflowError', 'difficulty': 'medium'}]\n"
          ]
        }
      ]
    },
    {
      "cell_type": "code",
      "source": [
        "# Saída\n",
        "Reposta da API: ```json\n",
        "[\n",
        "    {\n",
        "        \"question\": \"What is a critical component of robust Java programming?\",\n",
        "        \"answer\": \"Exception handling\",\n",
        "        \"difficulty\": \"easy\"\n",
        "    },\n",
        "    {\n",
        "        \"question\": \"What does Exception handling allow developers to do?\",\n",
        "        \"answer\": \"create resilient applications\",\n",
        "        \"difficulty\": \"medium\"\n",
        "    },\n",
        "    {\n",
        "        \"question\": \"What is essentially an event that disrupts the normal flow of a program's execution?\",\n",
        "        \"answer\": \"An exception\",\n",
        "        \"difficulty\": \"easy\"\n",
        "    },\n",
        "    {\n",
        "        \"question\": \"What class acts as the superclass for all errors and exceptions in Java?\",\n",
        "        \"answer\": \"Throwable\",\n",
        "        \"difficulty\": \"medium\"\n",
        "    },\n",
        "    {\n",
        "        \"question\": \"What are the two types of exceptions in Java?\",\n",
        "        \"answer\": \"checked and unchecked exceptions\",\n",
        "        \"difficulty\": \"easy\"\n",
        "    },\n",
        "    {\n",
        "        \"question\": \"What is an example of a checked exception?\",\n",
        "        \"answer\": \"IOException\",\n",
        "        \"difficulty\": \"medium\"\n",
        "    },\n",
        "    {\n",
        "        \"question\": \"What is an example of an unchecked exception?\",\n",
        "        \"answer\": \"NullPointerException\",\n",
        "        \"difficulty\": \"medium\"\n",
        "    },\n",
        "    {\n",
        "        \"question\": \"What is an example of an error that an application should not attempt to catch?\",\n",
        "        \"answer\": \"StackOverflowError\",\n",
        "        \"difficulty\": \"medium\"\n",
        "    }\n",
        "]\n",
        "```\n",
        "Perguntas de boa qualidade e classificadas por dificuldade:\n",
        "[{'question': 'What is a critical component of robust Java programming?', 'answer': 'Exception handling', 'difficulty': 'easy'}, {'question': 'What does Exception handling allow developers to do?', 'answer': 'create resilient applications', 'difficulty': 'medium'}, {'question': \"What is essentially an event that disrupts the normal flow of a program's execution?\", 'answer': 'An exception', 'difficulty': 'easy'}, {'question': 'What class acts as the superclass for all errors and exceptions in Java?', 'answer': 'Throwable', 'difficulty': 'medium'}, {'question': 'What are the two types of exceptions in Java?', 'answer': 'checked and unchecked exceptions', 'difficulty': 'easy'}, {'question': 'What is an example of a checked exception?', 'answer': 'IOException', 'difficulty': 'medium'}, {'question': 'What is an example of an unchecked exception?', 'answer': 'NullPointerException', 'difficulty': 'medium'}, {'question': 'What is an example of an error that an application should not attempt to catch?', 'answer': 'StackOverflowError', 'difficulty': 'medium'}]"
      ],
      "metadata": {
        "id": "dClfEpYPUQJV"
      },
      "execution_count": null,
      "outputs": []
    },
    {
      "cell_type": "markdown",
      "source": [
        "# Geração dos distratores"
      ],
      "metadata": {
        "id": "S5nuvveY6KqY"
      }
    },
    {
      "cell_type": "code",
      "source": [
        "def gerar_distratores(perguntas_classificadas):\n",
        "    distratores_final = []\n",
        "\n",
        "    for pr in perguntas_classificadas:\n",
        "        prompt = f\"Generate 4 plausible distractors for the following Java question.\\nQuestion: {pr['question']}\\nAnswer: {pr['answer']}\"\n",
        "\n",
        "        response = client.chat.completions.create(\n",
        "            model=\"gpt-4o-mini\",\n",
        "            messages=[\n",
        "                {\"role\": \"system\", \"content\": \"You are an assistant who generates multiple-choice question distractors.\"},\n",
        "                {\"role\": \"user\", \"content\": prompt}\n",
        "            ],\n",
        "            max_tokens=200,\n",
        "            temperature=0.7\n",
        "        )\n",
        "\n",
        "        distratores = response.choices[0].message.content\n",
        "        pr['distractors'] = distratores.split('\\n')\n",
        "        distratores_final.append(pr)\n",
        "\n",
        "    return distratores_final\n",
        "\n",
        "# Gere distratores para as perguntas classificadas\n",
        "perguntas_com_distratores = gerar_distratores(perguntas_classificadas)"
      ],
      "metadata": {
        "id": "86TrmGa56JvI"
      },
      "execution_count": null,
      "outputs": []
    },
    {
      "cell_type": "markdown",
      "source": [
        "# Visualização e exportação das perguntas"
      ],
      "metadata": {
        "id": "wCQNF0-i6R7g"
      }
    },
    {
      "cell_type": "code",
      "source": [
        "import json\n",
        "\n",
        "# Salvar as perguntas finalizadas em um arquivo JSON\n",
        "with open('perguntas_finalizadas.json', 'w') as f:\n",
        "    json.dump(perguntas_com_distratores, f, indent=4)\n",
        "\n",
        "print(\"Perguntas geradas e classificadas com sucesso!\")"
      ],
      "metadata": {
        "colab": {
          "base_uri": "https://localhost:8080/"
        },
        "id": "s7kGxJ8I6VPI",
        "outputId": "d82f9ef4-6fa8-4c02-ff74-6cc5163a6c00"
      },
      "execution_count": null,
      "outputs": [
        {
          "output_type": "stream",
          "name": "stdout",
          "text": [
            "Perguntas geradas e classificadas com sucesso!\n"
          ]
        }
      ]
    },
    {
      "cell_type": "code",
      "source": [
        "from google.colab import files\n",
        "files.download('perguntas_finalizadas.json')"
      ],
      "metadata": {
        "colab": {
          "base_uri": "https://localhost:8080/",
          "height": 17
        },
        "id": "oB3AIt2JVAwF",
        "outputId": "41297395-b315-483f-99d2-137959ff2d94"
      },
      "execution_count": null,
      "outputs": [
        {
          "output_type": "display_data",
          "data": {
            "text/plain": [
              "<IPython.core.display.Javascript object>"
            ],
            "application/javascript": [
              "\n",
              "    async function download(id, filename, size) {\n",
              "      if (!google.colab.kernel.accessAllowed) {\n",
              "        return;\n",
              "      }\n",
              "      const div = document.createElement('div');\n",
              "      const label = document.createElement('label');\n",
              "      label.textContent = `Downloading \"${filename}\": `;\n",
              "      div.appendChild(label);\n",
              "      const progress = document.createElement('progress');\n",
              "      progress.max = size;\n",
              "      div.appendChild(progress);\n",
              "      document.body.appendChild(div);\n",
              "\n",
              "      const buffers = [];\n",
              "      let downloaded = 0;\n",
              "\n",
              "      const channel = await google.colab.kernel.comms.open(id);\n",
              "      // Send a message to notify the kernel that we're ready.\n",
              "      channel.send({})\n",
              "\n",
              "      for await (const message of channel.messages) {\n",
              "        // Send a message to notify the kernel that we're ready.\n",
              "        channel.send({})\n",
              "        if (message.buffers) {\n",
              "          for (const buffer of message.buffers) {\n",
              "            buffers.push(buffer);\n",
              "            downloaded += buffer.byteLength;\n",
              "            progress.value = downloaded;\n",
              "          }\n",
              "        }\n",
              "      }\n",
              "      const blob = new Blob(buffers, {type: 'application/binary'});\n",
              "      const a = document.createElement('a');\n",
              "      a.href = window.URL.createObjectURL(blob);\n",
              "      a.download = filename;\n",
              "      div.appendChild(a);\n",
              "      a.click();\n",
              "      div.remove();\n",
              "    }\n",
              "  "
            ]
          },
          "metadata": {}
        },
        {
          "output_type": "display_data",
          "data": {
            "text/plain": [
              "<IPython.core.display.Javascript object>"
            ],
            "application/javascript": [
              "download(\"download_af43ee54-db75-4bd7-8056-6d1da339973d\", \"perguntas_finalizadas.json\", 2972)"
            ]
          },
          "metadata": {}
        }
      ]
    },
    {
      "cell_type": "markdown",
      "source": [
        "# Pipeline final de geração de questão (Com todas as etapas)"
      ],
      "metadata": {
        "id": "MbGsxTivFK4k"
      }
    },
    {
      "cell_type": "code",
      "source": [
        "import os\n",
        "import json\n",
        "import re\n",
        "from openai import OpenAI"
      ],
      "metadata": {
        "id": "2zgaLC0nFoGr"
      },
      "execution_count": null,
      "outputs": []
    },
    {
      "cell_type": "code",
      "source": [
        "# Inserindo chave API\n",
        "from google.colab import drive\n",
        "\n",
        "drive.mount('/content/drive')\n",
        "\n",
        "with open('/content/drive/MyDrive/api secret key.txt') as f:\n",
        "    os.environ['OPENAI_API_KEY'] = f.read().strip()\n",
        "\n",
        "client = OpenAI(\n",
        "  api_key=os.environ['OPENAI_API_KEY'],\n",
        ")"
      ],
      "metadata": {
        "colab": {
          "base_uri": "https://localhost:8080/"
        },
        "id": "guFU8VOSFp76",
        "outputId": "ac1f8082-301f-4d48-dd81-e03a20541cf1"
      },
      "execution_count": null,
      "outputs": [
        {
          "output_type": "stream",
          "name": "stdout",
          "text": [
            "Mounted at /content/drive\n"
          ]
        }
      ]
    },
    {
      "cell_type": "code",
      "source": [
        "# punkt - tokenizer que divide trecho em sentenças e em palavras\n",
        "!python -m nltk.downloader punkt\n",
        "\n",
        "!git clone https://github.com/joao326/question_generation/\n",
        "#!git clone https://github.com/patil-suraj/question_generation.git\n",
        "\n",
        "%cd question_generation\n",
        "!git checkout Tentando-corrigir-o-erro-substring-not-found"
      ],
      "metadata": {
        "colab": {
          "base_uri": "https://localhost:8080/"
        },
        "id": "lEG-jp-9Gxp8",
        "outputId": "b7de5835-fe14-465a-a280-6044c20f763f"
      },
      "execution_count": null,
      "outputs": [
        {
          "output_type": "stream",
          "name": "stdout",
          "text": [
            "/usr/lib/python3.10/runpy.py:126: RuntimeWarning: 'nltk.downloader' found in sys.modules after import of package 'nltk', but prior to execution of 'nltk.downloader'; this may result in unpredictable behaviour\n",
            "  warn(RuntimeWarning(msg))\n",
            "[nltk_data] Downloading package punkt to /root/nltk_data...\n",
            "[nltk_data]   Unzipping tokenizers/punkt.zip.\n",
            "Cloning into 'question_generation'...\n",
            "remote: Enumerating objects: 165, done.\u001b[K\n",
            "remote: Counting objects: 100% (19/19), done.\u001b[K\n",
            "remote: Compressing objects: 100% (12/12), done.\u001b[K\n",
            "remote: Total 165 (delta 10), reused 16 (delta 7), pack-reused 146 (from 1)\u001b[K\n",
            "Receiving objects: 100% (165/165), 274.49 KiB | 16.15 MiB/s, done.\n",
            "Resolving deltas: 100% (82/82), done.\n",
            "/content/question_generation\n",
            "Branch 'Tentando-corrigir-o-erro-substring-not-found' set up to track remote branch 'Tentando-corrigir-o-erro-substring-not-found' from 'origin'.\n",
            "Switched to a new branch 'Tentando-corrigir-o-erro-substring-not-found'\n"
          ]
        }
      ]
    },
    {
      "cell_type": "code",
      "source": [
        "# Função para gerar o contexto do tópico\n",
        "def gerar_contexto(topic):\n",
        "    prompt = (f\"Write a comprehensive and structured tutorial on the Java programming topic '{topic}' without using any code examples. \"\n",
        "              f\"Begin with an introduction explaining why '{topic}' is important in Java. \"\n",
        "              \"Provide an in-depth explanation of key concepts, including important terminology, common patterns, and relevant methods or classes. \"\n",
        "              \"Describe each concept clearly, focusing on how they work, how to apply them, and when they are commonly used. \"\n",
        "              \"Finally, discuss common pitfalls and best practices associated with this topic in Java. Ensure that the tutorial is thorough enough for the reader to understand without needing code examples.\")\n",
        "\n",
        "    response = client.chat.completions.create(\n",
        "        model=\"gpt-4o-mini\",\n",
        "        messages=[\n",
        "            {\"role\": \"system\", \"content\": \"You are a Java programming expert who writes in-depth tutorials without code examples.\"},\n",
        "            {\"role\": \"user\", \"content\": prompt}\n",
        "        ],\n",
        "        max_tokens=1200,\n",
        "        temperature=0.7\n",
        "    )\n",
        "    return response.choices[0].message.content\n",
        "\n",
        "# Função para gerar perguntas e respostas usando o contexto gerado\n",
        "def gerar_perguntas_respostas(contexto):\n",
        "    from pipelines import pipeline\n",
        "    nlp = pipeline(\"multitask-qa-qg\", model=\"valhalla/t5-base-qa-qg-hl\", ans_model=\"valhalla/t5-base-qa-qg-hl\")\n",
        "    perguntas_respostas = nlp(contexto)\n",
        "    return perguntas_respostas\n",
        "\n",
        "# Função para filtrar e classificar perguntas e respostas\n",
        "def filtrar_e_classificar_perguntas(perguntas_respostas):\n",
        "    prompt = (\n",
        "        \"Analyze the following list of question-answer pairs generated for a Java programming topic. \"\n",
        "        \"Identify and remove any question-answer pairs that are incomplete, confusing, inconsistent, redundant, repetitive, or vague. \"\n",
        "        \"For each high-quality question, classify its difficulty level as 'easy', 'medium', or 'hard'. \"\n",
        "        \"Provide the filtered and classified list in JSON format with the structure: \"\n",
        "        \"[{'question': '...', 'answer': '...', 'difficulty': '...'}].\"\n",
        "    )\n",
        "\n",
        "    perguntas_formatadas = \"\\n\".join([f\"Q: {pr['question']} | A: {pr['answer']}\" for pr in perguntas_respostas])\n",
        "\n",
        "    response = client.chat.completions.create(\n",
        "        model=\"gpt-4o-mini\",\n",
        "        messages=[\n",
        "            {\"role\": \"system\", \"content\": \"You are an assistant that filters and classifies Java programming question-answer pairs.\"},\n",
        "            {\"role\": \"user\", \"content\": f\"{prompt}\\n\\n{perguntas_formatadas}\"}\n",
        "        ],\n",
        "        max_tokens=1500,\n",
        "        temperature=0.5\n",
        "    )\n",
        "\n",
        "    content = response.choices[0].message.content\n",
        "    match = re.search(r'```json\\n(.*?)\\n```', content, re.DOTALL)\n",
        "    if match:\n",
        "        json_text = match.group(1)\n",
        "        try:\n",
        "            perguntas_filtradas_classificadas = json.loads(json_text)\n",
        "        except json.JSONDecodeError:\n",
        "            print(\"Erro ao decodificar JSON.\")\n",
        "            perguntas_filtradas_classificadas = None\n",
        "    else:\n",
        "        print(\"Formato JSON não encontrado na resposta\")\n",
        "        perguntas_filtradas_classificadas = None\n",
        "    return perguntas_filtradas_classificadas\n",
        "\n",
        "# Função para gerar distratores para cada pergunta\n",
        "def gerar_distratores(perguntas_classificadas):\n",
        "    for pr in perguntas_classificadas:\n",
        "        prompt = f\"Generate 4 plausible distractors for the following Java question.\\nQuestion: {pr['question']}\\nAnswer: {pr['answer']}\"\n",
        "        response = client.chat.completions.create(\n",
        "            model=\"gpt-4o-mini\",\n",
        "            messages=[\n",
        "                {\"role\": \"system\", \"content\": \"You are an assistant who generates multiple-choice question distractors.\"},\n",
        "                {\"role\": \"user\", \"content\": prompt}\n",
        "            ],\n",
        "            max_tokens=200,\n",
        "            temperature=0.7\n",
        "        )\n",
        "        distratores = response.choices[0].message.content\n",
        "        pr['distractors'] = distratores.split('\\n')\n",
        "    return perguntas_classificadas\n",
        "\n",
        "# Função principal para gerar questões para todos os tópicos\n",
        "def gerar_questoes(tópicos):\n",
        "    todas_perguntas = []\n",
        "\n",
        "    for tópico in tópicos:\n",
        "        print(f\"Gerando contexto para o tópico: {tópico}\")\n",
        "        contexto = gerar_contexto(tópico)\n",
        "\n",
        "        print(f\"Gerando perguntas para o tópico: {tópico}\")\n",
        "        perguntas_respostas = gerar_perguntas_respostas(contexto)\n",
        "\n",
        "        print(f\"Filtrando e classificando perguntas para o tópico: {tópico}\")\n",
        "        perguntas_classificadas = filtrar_e_classificar_perguntas(perguntas_respostas)\n",
        "\n",
        "        if perguntas_classificadas:\n",
        "            print(f\"Gerando distratores para o tópico: {tópico}\")\n",
        "            perguntas_com_distratores = gerar_distratores(perguntas_classificadas)\n",
        "\n",
        "            # Adiciona o tópico a cada pergunta e armazena no resultado final\n",
        "            for pergunta in perguntas_com_distratores:\n",
        "                pergunta['topic'] = tópico\n",
        "                todas_perguntas.append(pergunta)\n",
        "\n",
        "    # Salvar todas as perguntas em um JSON\n",
        "    with open('perguntas.json', 'w') as f:\n",
        "        json.dump(todas_perguntas, f, indent=4)\n",
        "\n",
        "    print(\"Todas as questões foram geradas e salvas com sucesso no arquivo 'todas_perguntas.json'.\")\n",
        "\n",
        "# Uso com tópicos básicos\n",
        "tópicos_básicos = [\n",
        "    \"Basic Syntax\", \"DataTypes, Variables\", \"Conditionals\", \"Functions\",\n",
        "    \"Loops\", \"Exception Handling\", \"DataStructures\", \"OOP, Interfaces, Classes\",\n",
        "    \"Packages\", \"Working With Files and APIs\"\n",
        "]\n",
        "gerar_questoes(tópicos_básicos)\n"
      ],
      "metadata": {
        "colab": {
          "base_uri": "https://localhost:8080/",
          "height": 1000,
          "referenced_widgets": [
            "590a2e0b6dda4542a7c84e9b9aa6fdd4",
            "70ccf010bb2e4b12ae4912fc8ca01fbc",
            "f79c0f0ff4a4459bbcfa9fae4c9a0e73",
            "e046a814cb5d47a48b145a5b713313c5",
            "2a45d17fa6344c918b524df0caa12495",
            "d90dd9c38be74ba182492aa6ee2a90d5",
            "0e0938421e564433874c8c5ebc3c2391",
            "1c9d0903f70240d09c214000adace2cd",
            "895a6d95078942268a418cb510bbe073",
            "e6f9b0325b464fc4a874f69d65140e7b",
            "7fd97efe4027480e812d9fc8f4240744",
            "eb08ec6ea81c44daa821c5289a64dec1",
            "ac21386315b24d6bae75fb6b3861279a",
            "2ff8901ca90843c8beca60537c0aa984",
            "92f19563399a4420a91dc4983659ffdd",
            "c9a0821d51764b01b9e44af9656d618b",
            "c30ad19add564e86b0cf605cd365c8ed",
            "fe932294246e4204ac692adc0d7aa9d8",
            "04faf94d82a949069a1a93ff50745cdc",
            "0ed4cc1830f64b1e915a59f81b687361",
            "10f0aaeab3314a219a51653ba9cb1ca9",
            "b049b74da12e4f25b1e2d6a12355954d",
            "e0b8caaed4b54ea0b58c1fe8029137a2",
            "d7544fa9d0bf406bb1659dc9c61a1a7a",
            "394b48ca887f43f0be70effd8705bc79",
            "36dc3fbc370a45439212d97d057f90a8",
            "addcf6b00ad9481c85305886d2c07e13",
            "6bab7c81489c4eec87c64802fd0bc8b0",
            "dbdf2be787ac4ef1b02eabb7e3134ba2",
            "535ca8c8e2f64e56a9e2ac362f17c936",
            "954d2ae022d64e85b8f38c8373aee006",
            "cd34077fdaa94fb398a4b7542e101fb5",
            "fd8ae60adbdd4c3aa488a6dee39a5ef6",
            "b6826be4dc534c6d81bbaaf96f8764a7",
            "cc3bb199553f41f5ad6a807bd1899020",
            "f26ddfcd0dd243d3a2c2c54a987f56c1",
            "a167aa14f5fd4c81a6db0eb773a325fd",
            "f867d8fe7a804b6187bdb638d827efcc",
            "0b0788c623a948dbb7e141f86bacae51",
            "d2d03ef846c84bd686c7bf292bdcb3b1",
            "5f149c9cef7c4c3b875143e1358fbef8",
            "fe42ccbde8e843a6894b86c0c1cf7979",
            "c2e84dc6a5d14a1e9fc49eebb42fa6c0",
            "de8074cacf5d42059ead7736fe53b414",
            "720b6b12763c4caf9b2cf37096c761db",
            "b7b571d1cdcf437c9d84a2dd3c94209c",
            "0814ba665ea54f128905f04881222ea6",
            "a11739c6bec44ea09309d034978115f5",
            "c19b06c3d321406699818f92607ceaa4",
            "0c3e2591490548c8a851ea6b20e98a5a",
            "44a8507e3df84c68bd40fec9db08f4a6",
            "6eeac67d47d94c14b16ba8ed2abbdcdf",
            "edc523b8a27142b0b447bfb40716e8ee",
            "1877b200d9694defb9cf9acfa716cbca",
            "3abe8240525441aaa0846f2c4eed44f2",
            "bf53e9d2acb047b09bd5509cfc557ec4",
            "555ae2c3a0014b21a44c88fbe56d976a",
            "63c78dbdf7904854897e9f61b2c02167",
            "ef1a84bbc8af4495a3ba548f314c0dd7",
            "05b814a328e34fa3a03374294b1ba460",
            "2b2a1dde153a432da0582deb49ba68e5",
            "2c4f06b22b944aaf877828eeb3775d15",
            "3e911aed71cd4b6ebf9b78269fc5f49b",
            "79eeabd290f241b2851c2daa99fdd164",
            "31b22d9727354f0180d8d9429ee6ac38",
            "9516f6d5ede949a48c19060ac9abc209"
          ]
        },
        "id": "nel3j4AtFSVT",
        "outputId": "265e024b-c5e4-4ecd-e68d-c9a40a0ce95d"
      },
      "execution_count": null,
      "outputs": [
        {
          "output_type": "stream",
          "name": "stdout",
          "text": [
            "Gerando contexto para o tópico: Basic Syntax\n",
            "Gerando perguntas para o tópico: Basic Syntax\n"
          ]
        },
        {
          "output_type": "stream",
          "name": "stderr",
          "text": [
            "/usr/local/lib/python3.10/dist-packages/huggingface_hub/utils/_token.py:89: UserWarning: \n",
            "The secret `HF_TOKEN` does not exist in your Colab secrets.\n",
            "To authenticate with the Hugging Face Hub, create a token in your settings tab (https://huggingface.co/settings/tokens), set it as secret in your Google Colab and restart your session.\n",
            "You will be able to reuse this secret in all of your notebooks.\n",
            "Please note that authentication is recommended but still optional to access public models or datasets.\n",
            "  warnings.warn(\n"
          ]
        },
        {
          "output_type": "display_data",
          "data": {
            "text/plain": [
              "tokenizer_config.json:   0%|          | 0.00/90.0 [00:00<?, ?B/s]"
            ],
            "application/vnd.jupyter.widget-view+json": {
              "version_major": 2,
              "version_minor": 0,
              "model_id": "590a2e0b6dda4542a7c84e9b9aa6fdd4"
            }
          },
          "metadata": {}
        },
        {
          "output_type": "display_data",
          "data": {
            "text/plain": [
              "config.json:   0%|          | 0.00/629 [00:00<?, ?B/s]"
            ],
            "application/vnd.jupyter.widget-view+json": {
              "version_major": 2,
              "version_minor": 0,
              "model_id": "eb08ec6ea81c44daa821c5289a64dec1"
            }
          },
          "metadata": {}
        },
        {
          "output_type": "display_data",
          "data": {
            "text/plain": [
              "spiece.model:   0%|          | 0.00/792k [00:00<?, ?B/s]"
            ],
            "application/vnd.jupyter.widget-view+json": {
              "version_major": 2,
              "version_minor": 0,
              "model_id": "e0b8caaed4b54ea0b58c1fe8029137a2"
            }
          },
          "metadata": {}
        },
        {
          "output_type": "display_data",
          "data": {
            "text/plain": [
              "added_tokens.json:   0%|          | 0.00/31.0 [00:00<?, ?B/s]"
            ],
            "application/vnd.jupyter.widget-view+json": {
              "version_major": 2,
              "version_minor": 0,
              "model_id": "b6826be4dc534c6d81bbaaf96f8764a7"
            }
          },
          "metadata": {}
        },
        {
          "output_type": "display_data",
          "data": {
            "text/plain": [
              "special_tokens_map.json:   0%|          | 0.00/65.0 [00:00<?, ?B/s]"
            ],
            "application/vnd.jupyter.widget-view+json": {
              "version_major": 2,
              "version_minor": 0,
              "model_id": "720b6b12763c4caf9b2cf37096c761db"
            }
          },
          "metadata": {}
        },
        {
          "output_type": "stream",
          "name": "stderr",
          "text": [
            "You are using the default legacy behaviour of the <class 'transformers.models.t5.tokenization_t5.T5Tokenizer'>. This is expected, and simply means that the `legacy` (previous) behavior will be used so nothing changes for you. If you want to use the new behaviour, set `legacy=False`. This should only be set if you understand what it means, and thoroughly read the reason why this was added as explained in https://github.com/huggingface/transformers/pull/24565\n",
            "/usr/local/lib/python3.10/dist-packages/transformers/tokenization_utils_base.py:1601: FutureWarning: `clean_up_tokenization_spaces` was not set. It will be set to `True` by default. This behavior will be depracted in transformers v4.45, and will be then set to `False` by default. For more details check this issue: https://github.com/huggingface/transformers/issues/31884\n",
            "  warnings.warn(\n"
          ]
        },
        {
          "output_type": "display_data",
          "data": {
            "text/plain": [
              "pytorch_model.bin:   0%|          | 0.00/892M [00:00<?, ?B/s]"
            ],
            "application/vnd.jupyter.widget-view+json": {
              "version_major": 2,
              "version_minor": 0,
              "model_id": "bf53e9d2acb047b09bd5509cfc557ec4"
            }
          },
          "metadata": {}
        },
        {
          "output_type": "stream",
          "name": "stderr",
          "text": [
            "WARNING:pipelines:Answer 'Data Types' not found in sentence '### 2.'\n",
            "WARNING:pipelines:Answer 'Variables' not found in sentence '### 3.'\n",
            "WARNING:pipelines:Answer 'assigning a value' not found in sentence 'Additionally, variables can be assigned a value using the assignment operator.'\n"
          ]
        },
        {
          "output_type": "stream",
          "name": "stdout",
          "text": [
            "Answer without <pad>: 'Basic Syntax'\n",
            "Answer without <pad>: 'Syntax'\n",
            "Answer without <pad>: 'writing, reading, and understanding Java code'\n",
            "Answer without <pad>: 'more advanced programming concepts and error resolution'\n",
            "Answer without <pad>: 'object-oriented'\n",
            "Answer without <pad>: 'C and C++'\n",
            "Answer without <pad>: 'Java's basic syntax'\n",
            "Answer without <pad>: 'Key Concepts of Java Basic Syntax'\n",
            "Answer without <pad>: 'Statements'\n",
            "Answer without <pad>: 'expressions, declarations, and control flow statements'\n",
            "Answer without <pad>: 'Understanding statements'\n",
            "Answer without <pad>: 'Expressions'\n",
            "Answer without <pad>: 'Declarations'\n",
            "Answer without <pad>: 'Control Flow Statements'\n",
            "Answer without <pad>: 'Data Types'\n",
            "Answer without <pad>: 'Data Types'\n",
            "Answer without <pad>: 'boolean'\n",
            "Answer without <pad>: 'size and range'\n",
            "Answer without <pad>: 'objects and arrays'\n",
            "Answer without <pad>: 'A reference type'\n",
            "Answer without <pad>: 'Variables'\n",
            "Answer without <pad>: 'Variables'\n",
            "Answer without <pad>: 'specifying its type followed by its name'\n",
            "Answer without <pad>: 'assigning a value'\n",
            "Filtrando e classificando perguntas para o tópico: Basic Syntax\n",
            "Gerando distratores para o tópico: Basic Syntax\n",
            "Gerando contexto para o tópico: DataTypes, Variables\n",
            "Gerando perguntas para o tópico: DataTypes, Variables\n"
          ]
        },
        {
          "output_type": "stream",
          "name": "stderr",
          "text": [
            "WARNING:pipelines:Answer 'Understanding data types and variables' not found in sentence '# Comprehensive Tutorial on Data Types and Variables in Java ## Introduction In the realm of Java programming, understanding data types and variables is paramount.'\n",
            "WARNING:pipelines:Answer 'data types and variables' not found in sentence 'They form the bedrock upon which all programming logic is built.'\n",
            "WARNING:pipelines:Answer 'mastering these concepts' not found in sentence 'Mastering these concepts is essential for effective programming in Java, as they influence memory management, data manipulation, and overall application performance.'\n",
            "WARNING:pipelines:Answer 'arrays' not found in sentence '- **Arrays**: A collection of elements, all of the same type, stored in contiguous memory locations.'\n",
            "WARNING:pipelines:Answer 'Variable' not found in sentence '### 2.'\n"
          ]
        },
        {
          "output_type": "stream",
          "name": "stdout",
          "text": [
            "Answer without <pad>: 'Understanding data types and variables'\n",
            "Answer without <pad>: 'data types and variables'\n",
            "Answer without <pad>: 'Data types'\n",
            "Answer without <pad>: 'mastering these concepts'\n",
            "Answer without <pad>: 'Key Concepts'\n",
            "Answer without <pad>: 'reference data types'\n",
            "Answer without <pad>: 'Primitive Data Types'\n",
            "Answer without <pad>: 'eight'\n",
            "Answer without <pad>: '16'\n",
            "Answer without <pad>: '32'\n",
            "Answer without <pad>: '64'\n",
            "Answer without <pad>: 'single-precision 32-bit IEEE 754 floating point'\n",
            "Answer without <pad>: 'greater precision'\n",
            "Answer without <pad>: '16'\n",
            "Answer without <pad>: 'true or false'\n",
            "Answer without <pad>: 'Reference Data Types'\n",
            "Answer without <pad>: 'addresses'\n",
            "Answer without <pad>: 'Strings'\n",
            "Answer without <pad>: 'arrays'\n",
            "Answer without <pad>: 'User-defined data types'\n",
            "Answer without <pad>: 'Variable'\n",
            "Answer without <pad>: 'Variables'\n",
            "Filtrando e classificando perguntas para o tópico: DataTypes, Variables\n",
            "Gerando distratores para o tópico: DataTypes, Variables\n",
            "Gerando contexto para o tópico: Conditionals\n",
            "Gerando perguntas para o tópico: Conditionals\n"
          ]
        },
        {
          "output_type": "stream",
          "name": "stderr",
          "text": [
            "WARNING:pipelines:Answer 'understanding conditionals' not found in sentence 'Understanding conditionals is crucial for any Java developer, as they form the backbone of decision-making in programs.'\n",
            "WARNING:pipelines:Answer 'Common Conditional Statements' not found in sentence '### 2.'\n",
            "WARNING:pipelines:Answer 'if Statement' not found in sentence 'It executes a block of code if the specified condition evaluates to true.'\n",
            "WARNING:pipelines:Answer 'Logical Operators' not found in sentence '### 3.'\n"
          ]
        },
        {
          "output_type": "stream",
          "name": "stdout",
          "text": [
            "Answer without <pad>: 'conditionals'\n",
            "Answer without <pad>: 'conditionals'\n",
            "Answer without <pad>: 'creating dynamic and interactive applications'\n",
            "Answer without <pad>: 'understanding conditionals'\n",
            "Answer without <pad>: 'Key Concepts'\n",
            "Answer without <pad>: 'condition'\n",
            "Answer without <pad>: 'comparison operators'\n",
            "Answer without <pad>: '**Branching'\n",
            "Answer without <pad>: 'branches in a tree'\n",
            "Answer without <pad>: 'Common Conditional Statements'\n",
            "Answer without <pad>: 'if Statement'\n",
            "Answer without <pad>: 'if Statement'\n",
            "Answer without <pad>: 'optional else clause'\n",
            "Answer without <pad>: 'if statement'\n",
            "Answer without <pad>: 'If the first condition is false'\n",
            "Answer without <pad>: 'switch Statement'\n",
            "Answer without <pad>: 'case labels'\n",
            "Answer without <pad>: 'Logical Operators'\n",
            "Answer without <pad>: 'Logical Operators'\n",
            "Answer without <pad>: 'true if both conditions are true'\n",
            "Answer without <pad>: 'OR'\n",
            "Filtrando e classificando perguntas para o tópico: Conditionals\n",
            "Gerando distratores para o tópico: Conditionals\n",
            "Gerando contexto para o tópico: Functions\n",
            "Gerando perguntas para o tópico: Functions\n"
          ]
        },
        {
          "output_type": "stream",
          "name": "stderr",
          "text": [
            "WARNING:pipelines:Answer 'Method Overloading' not found in sentence '### 2.'\n",
            "WARNING:pipelines:Answer 'Method Overloading' not found in sentence 'This can be achieved by varying the number of parameters or their types.'\n",
            "WARNING:pipelines:Answer 'Access Modifiers' not found in sentence '### 3.'\n",
            "WARNING:pipelines:Answer 'private' not found in sentence '- **Private:** The method can only be accessed within its own class.'\n",
            "WARNING:pipelines:Answer 'method can only be accessed within its own class' not found in sentence '- **Protected:** The method is accessible within its own package and by subclasses.'\n"
          ]
        },
        {
          "output_type": "stream",
          "name": "stdout",
          "text": [
            "Answer without <pad>: 'methods'\n",
            "Answer without <pad>: 'reusable segments of code'\n",
            "Answer without <pad>: 'code reusability, enhance readability, facilitate debugging, and support modular programming'\n",
            "Answer without <pad>: 'better software design and architecture'\n",
            "Answer without <pad>: 'Key Concepts of Functions in Java'\n",
            "Answer without <pad>: 'Return Type'\n",
            "Answer without <pad>: 'any Java data type'\n",
            "Answer without <pad>: 'reference types'\n",
            "Answer without <pad>: 'void'\n",
            "Answer without <pad>: 'The name of the function'\n",
            "Answer without <pad>: 'camelCase'\n",
            "Answer without <pad>: 'Parameters'\n",
            "Answer without <pad>: 'Parameters'\n",
            "Answer without <pad>: 'zero or more parameters'\n",
            "Answer without <pad>: 'Method Body'\n",
            "Answer without <pad>: 'contains the statements that are executed when the method is called'\n",
            "Answer without <pad>: 'Method Overloading'\n",
            "Answer without <pad>: 'Method Overloading'\n",
            "Answer without <pad>: 'Method Overloading'\n",
            "Answer without <pad>: 'Overloading'\n",
            "Answer without <pad>: 'Access Modifiers'\n",
            "Answer without <pad>: 'Access Modifiers'\n",
            "Answer without <pad>: 'any other class'\n",
            "Answer without <pad>: 'private'\n",
            "Answer without <pad>: 'method can only be accessed within its own class'\n",
            "Filtrando e classificando perguntas para o tópico: Functions\n",
            "Gerando distratores para o tópico: Functions\n",
            "Gerando contexto para o tópico: Loops\n",
            "Gerando perguntas para o tópico: Loops\n"
          ]
        },
        {
          "output_type": "stream",
          "name": "stderr",
          "text": [
            "WARNING:pipelines:Answer 'Automating repetitive tasks' not found in sentence '2.'\n",
            "WARNING:pipelines:Answer 'Control Flow' not found in sentence '3.'\n",
            "WARNING:pipelines:Answer 'condition' not found in sentence '- **Condition**: A boolean expression evaluated before each iteration, determining whether the loop should continue executing.'\n",
            "WARNING:pipelines:Answer 'count' not found in sentence '- **Counter**: A variable used to track the number of iterations, often initialized before the loop begins and modified during each iteration.'\n",
            "WARNING:pipelines:Answer 'Types of Loops' not found in sentence '### 2.'\n"
          ]
        },
        {
          "output_type": "stream",
          "name": "stdout",
          "text": [
            "Answer without <pad>: 'Loops'\n",
            "Answer without <pad>: 'repetitive tasks'\n",
            "Answer without <pad>: 'Understanding loops'\n",
            "Answer without <pad>: 'Importance of Loops in Java'\n",
            "Answer without <pad>: 'Automating repetitive tasks'\n",
            "Answer without <pad>: 'Automating repetitive tasks'\n",
            "Answer without <pad>: 'Flexibility'\n",
            "Answer without <pad>: 'Control Flow'\n",
            "Answer without <pad>: 'Control Flow'\n",
            "Answer without <pad>: 'Key Concepts of Loops'\n",
            "Answer without <pad>: 'Terminology'\n",
            "Answer without <pad>: 'condition'\n",
            "Answer without <pad>: 'count'\n",
            "Answer without <pad>: 'Types of Loops'\n",
            "Answer without <pad>: 'For Loop'\n",
            "Answer without <pad>: 'initialization, condition, and increment/decrement'\n",
            "Answer without <pad>: 'iterating over arrays or collections'\n",
            "Answer without <pad>: 'While Loop'\n",
            "Answer without <pad>: 'as long as the specified condition remains true'\n",
            "Answer without <pad>: 'user input or external factors'\n",
            "Answer without <pad>: 'Do-While Loop'\n",
            "Filtrando e classificando perguntas para o tópico: Loops\n",
            "Gerando distratores para o tópico: Loops\n",
            "Gerando contexto para o tópico: Exception Handling\n",
            "Gerando perguntas para o tópico: Exception Handling\n"
          ]
        },
        {
          "output_type": "stream",
          "name": "stderr",
          "text": [
            "WARNING:pipelines:Answer '<unk>Throwable<unk>' not found in sentence 'The base class for all exceptions is `Throwable`, which has two primary subclasses: `Error` and `Exception`.'\n",
            "WARNING:pipelines:Answer 'Try-Catch Block' not found in sentence '### 3.'\n",
            "WARNING:pipelines:Answer '<unk>try<unk> section' not found in sentence 'It consists of a `try` section, where code that may throw an exception is executed, followed by one or more `catch` blocks that handle specific exceptions.'\n"
          ]
        },
        {
          "output_type": "stream",
          "name": "stdout",
          "text": [
            "Answer without <pad>: 'Exception handling'\n",
            "Answer without <pad>: 'an unexpected event that disrupts the normal flow of the program's instructions'\n",
            "Answer without <pad>: 'Effective exception handling'\n",
            "Answer without <pad>: 'program reliability, readability, and maintainability'\n",
            "Answer without <pad>: 'Key Concepts of Exception Handling'\n",
            "Answer without <pad>: 'an event that disrupts the normal execution of a program'\n",
            "Answer without <pad>: 'objects'\n",
            "Answer without <pad>: 'by catching them or declaring them in the method signature'\n",
            "Answer without <pad>: 'IOException'\n",
            "Answer without <pad>: 'Unchecked Exceptions'\n",
            "Answer without <pad>: 'NullPointerException'\n",
            "Answer without <pad>: 'RuntimeException'\n",
            "Answer without <pad>: '### 2.'\n",
            "Answer without <pad>: 'class hierarchy'\n",
            "Answer without <pad>: '<unk>Throwable<unk>'\n",
            "Answer without <pad>: 'serious problems'\n",
            "Answer without <pad>: 'Java runtime environment'\n",
            "Answer without <pad>: 'Represents conditions that a program might want to catch'\n",
            "Answer without <pad>: 'unchecked exceptions'\n",
            "Answer without <pad>: 'Try-Catch Block'\n",
            "Answer without <pad>: 'Try-Catch Block'\n",
            "Answer without <pad>: '<unk>try<unk> section'\n",
            "Filtrando e classificando perguntas para o tópico: Exception Handling\n",
            "Gerando distratores para o tópico: Exception Handling\n",
            "Gerando contexto para o tópico: DataStructures\n",
            "Gerando perguntas para o tópico: DataStructures\n"
          ]
        },
        {
          "output_type": "stream",
          "name": "stderr",
          "text": [
            "WARNING:pipelines:Answer 'Important Terminology' not found in sentence '### 2.'\n",
            "WARNING:pipelines:Answer 'collection' not found in sentence '- **Collection**: A group of data elements, often managed as a single unit.'\n",
            "WARNING:pipelines:Answer 'Common Data Structures in Java' not found in sentence '### 3.'\n",
            "WARNING:pipelines:Answer 'Lists' not found in sentence '#### b.'\n"
          ]
        },
        {
          "output_type": "stream",
          "name": "stdout",
          "text": [
            "Answer without <pad>: 'Data structures'\n",
            "Answer without <pad>: 'data structures'\n",
            "Answer without <pad>: 'speed and efficiency'\n",
            "Answer without <pad>: 'Key Concepts of Data Structures'\n",
            "Answer without <pad>: 'specialized format'\n",
            "Answer without <pad>: 'how much memory is required'\n",
            "Answer without <pad>: 'primitive data structures'\n",
            "Answer without <pad>: 'Important Terminology'\n",
            "Answer without <pad>: 'Important Terminology'\n",
            "Answer without <pad>: 'collection'\n",
            "Answer without <pad>: 'Node'\n",
            "Answer without <pad>: 'Pointer/Reference'\n",
            "Answer without <pad>: 'maximum number of elements'\n",
            "Answer without <pad>: 'current number of elements in a data structure'\n",
            "Answer without <pad>: 'Common Data Structures in Java'\n",
            "Answer without <pad>: 'Arrays'\n",
            "Answer without <pad>: 'dynamic resizing and flexibility'\n",
            "Answer without <pad>: 'Lists'\n",
            "Answer without <pad>: 'Lists'\n",
            "Answer without <pad>: 'Lists'\n",
            "Answer without <pad>: 'Sets'\n",
            "Filtrando e classificando perguntas para o tópico: DataStructures\n",
            "Gerando distratores para o tópico: DataStructures\n",
            "Gerando contexto para o tópico: OOP, Interfaces, Classes\n",
            "Gerando perguntas para o tópico: OOP, Interfaces, Classes\n"
          ]
        },
        {
          "output_type": "stream",
          "name": "stderr",
          "text": [
            "WARNING:pipelines:Answer '1. Encapsulation' not found in sentence 'These principles include: 1.'\n",
            "WARNING:pipelines:Answer 'inheritance' not found in sentence '2.'\n",
            "WARNING:pipelines:Answer 'inheritance' not found in sentence '**Inheritance**: Inheritance allows one class to inherit fields and methods from another class, promoting code reuse.'\n",
            "WARNING:pipelines:Answer 'Polymorphism' not found in sentence '3.'\n",
            "WARNING:pipelines:Answer 'Abstraction' not found in sentence '4.'\n",
            "WARNING:pipelines:Answer 'attributes' not found in sentence '- **Attributes**: These are the variables that hold the state of an object.'\n"
          ]
        },
        {
          "output_type": "stream",
          "name": "stdout",
          "text": [
            "Answer without <pad>: 'Object-Oriented Programming'\n",
            "Answer without <pad>: 'a clear modular structure'\n",
            "Answer without <pad>: 'classes and interfaces'\n",
            "Answer without <pad>: 'facilitate code reuse, enhance readability, and simplify complex systems'\n",
            "Answer without <pad>: 'Key Concepts'\n",
            "Answer without <pad>: '1. Encapsulation'\n",
            "Answer without <pad>: '**Encapsulation'\n",
            "Answer without <pad>: 'Encapsulation'\n",
            "Answer without <pad>: 'inheritance'\n",
            "Answer without <pad>: 'inheritance'\n",
            "Answer without <pad>: 'superclass'\n",
            "Answer without <pad>: 'simplify code management'\n",
            "Answer without <pad>: 'Polymorphism'\n",
            "Answer without <pad>: 'Polymorphism'\n",
            "Answer without <pad>: 'data types'\n",
            "Answer without <pad>: 'Polymorphism'\n",
            "Answer without <pad>: 'Abstraction'\n",
            "Answer without <pad>: 'Abstraction'\n",
            "Answer without <pad>: 'abstract classes and interfaces'\n",
            "Answer without <pad>: 'blueprint'\n",
            "Answer without <pad>: 'attributes'\n",
            "Answer without <pad>: 'attributes'\n",
            "Answer without <pad>: 'any data type'\n",
            "Filtrando e classificando perguntas para o tópico: OOP, Interfaces, Classes\n",
            "Gerando distratores para o tópico: OOP, Interfaces, Classes\n",
            "Gerando contexto para o tópico: Packages\n",
            "Gerando perguntas para o tópico: Packages\n"
          ]
        },
        {
          "output_type": "stream",
          "name": "stderr",
          "text": [
            "WARNING:pipelines:Answer 'Important Terminology' not found in sentence '### 2.'\n",
            "WARNING:pipelines:Answer 'Types of Packages' not found in sentence '### 3.'\n"
          ]
        },
        {
          "output_type": "stream",
          "name": "stdout",
          "text": [
            "Answer without <pad>: 'a namespace'\n",
            "Answer without <pad>: 'managing large software systems'\n",
            "Answer without <pad>: 'easier distribution and modularization of code'\n",
            "Answer without <pad>: 'object-oriented programming paradigm'\n",
            "Answer without <pad>: 'Key Concepts'\n",
            "Answer without <pad>: 'easy management'\n",
            "Answer without <pad>: 'folders'\n",
            "Answer without <pad>: 'enhance clarity and maintainability'\n",
            "Answer without <pad>: 'Naming Conflicts'\n",
            "Answer without <pad>: 'Access Control'\n",
            "Answer without <pad>: 'Important Terminology'\n",
            "Answer without <pad>: 'Package Declaration'\n",
            "Answer without <pad>: 'place the class in the correct location'\n",
            "Answer without <pad>: 'Import Statement'\n",
            "Answer without <pad>: 'code readability and convenience'\n",
            "Answer without <pad>: 'default package'\n",
            "Answer without <pad>: 'naming conflicts and maintenance issues'\n",
            "Answer without <pad>: 'Types of Packages'\n",
            "Answer without <pad>: 'Java Development Kit'\n",
            "Answer without <pad>: 'java.lang'\n",
            "Answer without <pad>: 'Understanding these packages'\n",
            "Answer without <pad>: 'User-defined Packages'\n",
            "Filtrando e classificando perguntas para o tópico: Packages\n",
            "Gerando distratores para o tópico: Packages\n",
            "Gerando contexto para o tópico: Working With Files and APIs\n",
            "Gerando perguntas para o tópico: Working With Files and APIs\n"
          ]
        },
        {
          "output_type": "stream",
          "name": "stderr",
          "text": [
            "WARNING:pipelines:Answer 'working with files and APIs' not found in sentence '# Working With Files and APIs in Java: A Comprehensive Tutorial ## Introduction In the realm of software development, the ability to work with files and APIs is crucial for creating robust applications that can interact with data and other services seamlessly.'\n",
            "WARNING:pipelines:Answer 'input streams' not found in sentence 'Input streams read data from a source, while output streams write data to a destination.'\n"
          ]
        },
        {
          "output_type": "stream",
          "name": "stdout",
          "text": [
            "Answer without <pad>: 'working with files and APIs'\n",
            "Answer without <pad>: 'powerful libraries and frameworks'\n",
            "Answer without <pad>: 'greatly enhance'\n",
            "Answer without <pad>: 'importance, key terminology, patterns, and best practices'\n",
            "Answer without <pad>: 'data-driven applications'\n",
            "Answer without <pad>: 'Key Concepts'\n",
            "Answer without <pad>: 'File Handling'\n",
            "Answer without <pad>: 'java.io'\n",
            "Answer without <pad>: 'a collection of data stored on a disk'\n",
            "Answer without <pad>: 'various types'\n",
            "Answer without <pad>: 'Streams'\n",
            "Answer without <pad>: 'input streams'\n",
            "Answer without <pad>: 'Buffered Streams'\n",
            "Answer without <pad>: 'file channels'\n",
            "Answer without <pad>: 'Reading Files'\n",
            "Answer without <pad>: 'buffered readers or file channels'\n",
            "Answer without <pad>: 'Writing Files'\n",
            "Filtrando e classificando perguntas para o tópico: Working With Files and APIs\n",
            "Gerando distratores para o tópico: Working With Files and APIs\n",
            "Todas as questões foram geradas e salvas com sucesso no arquivo 'todas_perguntas.json'.\n"
          ]
        }
      ]
    },
    {
      "cell_type": "code",
      "source": [
        "# Outros tópicos: (é mesmo necessário?)\n",
        "\n",
        "# Intermediário 1\n",
        "# Intermetdiário 2\n",
        "# Avançado\n",
        "# Completo"
      ],
      "metadata": {
        "id": "YMVeZEzJHnTq"
      },
      "execution_count": null,
      "outputs": []
    },
    {
      "cell_type": "code",
      "source": [
        "from google.colab import files\n",
        "files.download('perguntas.json')"
      ],
      "metadata": {
        "colab": {
          "base_uri": "https://localhost:8080/",
          "height": 17
        },
        "id": "sbNitVlZIyhB",
        "outputId": "5226e18c-d5fb-42a6-8f18-dd5521f58ae3"
      },
      "execution_count": null,
      "outputs": [
        {
          "output_type": "display_data",
          "data": {
            "text/plain": [
              "<IPython.core.display.Javascript object>"
            ],
            "application/javascript": [
              "\n",
              "    async function download(id, filename, size) {\n",
              "      if (!google.colab.kernel.accessAllowed) {\n",
              "        return;\n",
              "      }\n",
              "      const div = document.createElement('div');\n",
              "      const label = document.createElement('label');\n",
              "      label.textContent = `Downloading \"${filename}\": `;\n",
              "      div.appendChild(label);\n",
              "      const progress = document.createElement('progress');\n",
              "      progress.max = size;\n",
              "      div.appendChild(progress);\n",
              "      document.body.appendChild(div);\n",
              "\n",
              "      const buffers = [];\n",
              "      let downloaded = 0;\n",
              "\n",
              "      const channel = await google.colab.kernel.comms.open(id);\n",
              "      // Send a message to notify the kernel that we're ready.\n",
              "      channel.send({})\n",
              "\n",
              "      for await (const message of channel.messages) {\n",
              "        // Send a message to notify the kernel that we're ready.\n",
              "        channel.send({})\n",
              "        if (message.buffers) {\n",
              "          for (const buffer of message.buffers) {\n",
              "            buffers.push(buffer);\n",
              "            downloaded += buffer.byteLength;\n",
              "            progress.value = downloaded;\n",
              "          }\n",
              "        }\n",
              "      }\n",
              "      const blob = new Blob(buffers, {type: 'application/binary'});\n",
              "      const a = document.createElement('a');\n",
              "      a.href = window.URL.createObjectURL(blob);\n",
              "      a.download = filename;\n",
              "      div.appendChild(a);\n",
              "      a.click();\n",
              "      div.remove();\n",
              "    }\n",
              "  "
            ]
          },
          "metadata": {}
        },
        {
          "output_type": "display_data",
          "data": {
            "text/plain": [
              "<IPython.core.display.Javascript object>"
            ],
            "application/javascript": [
              "download(\"download_6822897c-343a-45ca-9867-a209a116e7c5\", \"perguntas.json\", 44349)"
            ]
          },
          "metadata": {}
        }
      ]
    },
    {
      "cell_type": "markdown",
      "source": [
        "to do:\n",
        "- [ ] Retirar \"Answer without \\<pad>:\""
      ],
      "metadata": {
        "id": "qpIIL45qFWRd"
      }
    }
  ],
  "metadata": {
    "colab": {
      "gpuType": "T4",
      "provenance": [],
      "collapsed_sections": [
        "RVtmPNHMiGyb",
        "rww3zZJ9Kgd5",
        "YoVh9rk7Y4j9"
      ]
    },
    "kernelspec": {
      "display_name": "Python 3",
      "name": "python3"
    },
    "language_info": {
      "name": "python"
    },
    "accelerator": "GPU"
  },
  "nbformat": 4,
  "nbformat_minor": 0
}